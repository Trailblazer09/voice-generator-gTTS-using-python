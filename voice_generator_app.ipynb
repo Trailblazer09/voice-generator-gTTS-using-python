{
  "nbformat": 4,
  "nbformat_minor": 0,
  "metadata": {
    "colab": {
      "provenance": []
    },
    "kernelspec": {
      "name": "python3",
      "display_name": "Python 3"
    },
    "language_info": {
      "name": "python"
    },
    "widgets": {
      "application/vnd.jupyter.widget-state+json": {
        "f290da859d394b36a7d08ab43e3a91f4": {
          "model_module": "@jupyter-widgets/controls",
          "model_name": "DropdownModel",
          "model_module_version": "1.5.0",
          "state": {
            "_dom_classes": [],
            "_model_module": "@jupyter-widgets/controls",
            "_model_module_version": "1.5.0",
            "_model_name": "DropdownModel",
            "_options_labels": [
              "English ",
              "Hindi"
            ],
            "_view_count": null,
            "_view_module": "@jupyter-widgets/controls",
            "_view_module_version": "1.5.0",
            "_view_name": "DropdownView",
            "description": "🌐 Language:",
            "description_tooltip": null,
            "disabled": false,
            "index": 0,
            "layout": "IPY_MODEL_d68366cfa9514e43a49f1e31ba1fb21f",
            "style": "IPY_MODEL_f2c325bbe96648c799b0abfcb445cc1c"
          }
        },
        "d68366cfa9514e43a49f1e31ba1fb21f": {
          "model_module": "@jupyter-widgets/base",
          "model_name": "LayoutModel",
          "model_module_version": "1.2.0",
          "state": {
            "_model_module": "@jupyter-widgets/base",
            "_model_module_version": "1.2.0",
            "_model_name": "LayoutModel",
            "_view_count": null,
            "_view_module": "@jupyter-widgets/base",
            "_view_module_version": "1.2.0",
            "_view_name": "LayoutView",
            "align_content": null,
            "align_items": null,
            "align_self": null,
            "border": null,
            "bottom": null,
            "display": null,
            "flex": null,
            "flex_flow": null,
            "grid_area": null,
            "grid_auto_columns": null,
            "grid_auto_flow": null,
            "grid_auto_rows": null,
            "grid_column": null,
            "grid_gap": null,
            "grid_row": null,
            "grid_template_areas": null,
            "grid_template_columns": null,
            "grid_template_rows": null,
            "height": null,
            "justify_content": null,
            "justify_items": null,
            "left": null,
            "margin": null,
            "max_height": null,
            "max_width": null,
            "min_height": null,
            "min_width": null,
            "object_fit": null,
            "object_position": null,
            "order": null,
            "overflow": null,
            "overflow_x": null,
            "overflow_y": null,
            "padding": null,
            "right": null,
            "top": null,
            "visibility": null,
            "width": null
          }
        },
        "f2c325bbe96648c799b0abfcb445cc1c": {
          "model_module": "@jupyter-widgets/controls",
          "model_name": "DescriptionStyleModel",
          "model_module_version": "1.5.0",
          "state": {
            "_model_module": "@jupyter-widgets/controls",
            "_model_module_version": "1.5.0",
            "_model_name": "DescriptionStyleModel",
            "_view_count": null,
            "_view_module": "@jupyter-widgets/base",
            "_view_module_version": "1.2.0",
            "_view_name": "StyleView",
            "description_width": "initial"
          }
        },
        "980f9596c6cf404cb2cd754828fbebbe": {
          "model_module": "@jupyter-widgets/controls",
          "model_name": "TextareaModel",
          "model_module_version": "1.5.0",
          "state": {
            "_dom_classes": [],
            "_model_module": "@jupyter-widgets/controls",
            "_model_module_version": "1.5.0",
            "_model_name": "TextareaModel",
            "_view_count": null,
            "_view_module": "@jupyter-widgets/controls",
            "_view_module_version": "1.5.0",
            "_view_name": "TextareaView",
            "continuous_update": true,
            "description": "📝 Your Text:",
            "description_tooltip": null,
            "disabled": false,
            "layout": "IPY_MODEL_eaf100a983aa4517846e9488222c3df5",
            "placeholder": "🎤 What do you want to say today?",
            "rows": null,
            "style": "IPY_MODEL_0565a02d4118493da8d7ce25563a2462",
            "value": "HELLO, HOW ARE YOU?"
          }
        },
        "eaf100a983aa4517846e9488222c3df5": {
          "model_module": "@jupyter-widgets/base",
          "model_name": "LayoutModel",
          "model_module_version": "1.2.0",
          "state": {
            "_model_module": "@jupyter-widgets/base",
            "_model_module_version": "1.2.0",
            "_model_name": "LayoutModel",
            "_view_count": null,
            "_view_module": "@jupyter-widgets/base",
            "_view_module_version": "1.2.0",
            "_view_name": "LayoutView",
            "align_content": null,
            "align_items": null,
            "align_self": null,
            "border": null,
            "bottom": null,
            "display": null,
            "flex": null,
            "flex_flow": null,
            "grid_area": null,
            "grid_auto_columns": null,
            "grid_auto_flow": null,
            "grid_auto_rows": null,
            "grid_column": null,
            "grid_gap": null,
            "grid_row": null,
            "grid_template_areas": null,
            "grid_template_columns": null,
            "grid_template_rows": null,
            "height": "100px",
            "justify_content": null,
            "justify_items": null,
            "left": null,
            "margin": null,
            "max_height": null,
            "max_width": null,
            "min_height": null,
            "min_width": null,
            "object_fit": null,
            "object_position": null,
            "order": null,
            "overflow": null,
            "overflow_x": null,
            "overflow_y": null,
            "padding": null,
            "right": null,
            "top": null,
            "visibility": null,
            "width": "100%"
          }
        },
        "0565a02d4118493da8d7ce25563a2462": {
          "model_module": "@jupyter-widgets/controls",
          "model_name": "DescriptionStyleModel",
          "model_module_version": "1.5.0",
          "state": {
            "_model_module": "@jupyter-widgets/controls",
            "_model_module_version": "1.5.0",
            "_model_name": "DescriptionStyleModel",
            "_view_count": null,
            "_view_module": "@jupyter-widgets/base",
            "_view_module_version": "1.2.0",
            "_view_name": "StyleView",
            "description_width": "initial"
          }
        },
        "c8c7074f861f48739f16e743c62e0376": {
          "model_module": "@jupyter-widgets/controls",
          "model_name": "FloatSliderModel",
          "model_module_version": "1.5.0",
          "state": {
            "_dom_classes": [],
            "_model_module": "@jupyter-widgets/controls",
            "_model_module_version": "1.5.0",
            "_model_name": "FloatSliderModel",
            "_view_count": null,
            "_view_module": "@jupyter-widgets/controls",
            "_view_module_version": "1.5.0",
            "_view_name": "FloatSliderView",
            "continuous_update": true,
            "description": "⏩ Speed:",
            "description_tooltip": null,
            "disabled": false,
            "layout": "IPY_MODEL_bc50b200519c42f88f152e3b1e6d7d7d",
            "max": 1.5,
            "min": 0.5,
            "orientation": "horizontal",
            "readout": true,
            "readout_format": ".2f",
            "step": 0.1,
            "style": "IPY_MODEL_017ee65b13ab4a36be7cbdd3ab8e7ac2",
            "value": 1
          }
        },
        "bc50b200519c42f88f152e3b1e6d7d7d": {
          "model_module": "@jupyter-widgets/base",
          "model_name": "LayoutModel",
          "model_module_version": "1.2.0",
          "state": {
            "_model_module": "@jupyter-widgets/base",
            "_model_module_version": "1.2.0",
            "_model_name": "LayoutModel",
            "_view_count": null,
            "_view_module": "@jupyter-widgets/base",
            "_view_module_version": "1.2.0",
            "_view_name": "LayoutView",
            "align_content": null,
            "align_items": null,
            "align_self": null,
            "border": null,
            "bottom": null,
            "display": null,
            "flex": null,
            "flex_flow": null,
            "grid_area": null,
            "grid_auto_columns": null,
            "grid_auto_flow": null,
            "grid_auto_rows": null,
            "grid_column": null,
            "grid_gap": null,
            "grid_row": null,
            "grid_template_areas": null,
            "grid_template_columns": null,
            "grid_template_rows": null,
            "height": null,
            "justify_content": null,
            "justify_items": null,
            "left": null,
            "margin": null,
            "max_height": null,
            "max_width": null,
            "min_height": null,
            "min_width": null,
            "object_fit": null,
            "object_position": null,
            "order": null,
            "overflow": null,
            "overflow_x": null,
            "overflow_y": null,
            "padding": null,
            "right": null,
            "top": null,
            "visibility": null,
            "width": "50%"
          }
        },
        "017ee65b13ab4a36be7cbdd3ab8e7ac2": {
          "model_module": "@jupyter-widgets/controls",
          "model_name": "SliderStyleModel",
          "model_module_version": "1.5.0",
          "state": {
            "_model_module": "@jupyter-widgets/controls",
            "_model_module_version": "1.5.0",
            "_model_name": "SliderStyleModel",
            "_view_count": null,
            "_view_module": "@jupyter-widgets/base",
            "_view_module_version": "1.2.0",
            "_view_name": "StyleView",
            "description_width": "initial",
            "handle_color": null
          }
        },
        "eaf1043ff759427eb2ac96f0a10e977b": {
          "model_module": "@jupyter-widgets/controls",
          "model_name": "ButtonModel",
          "model_module_version": "1.5.0",
          "state": {
            "_dom_classes": [],
            "_model_module": "@jupyter-widgets/controls",
            "_model_module_version": "1.5.0",
            "_model_name": "ButtonModel",
            "_view_count": null,
            "_view_module": "@jupyter-widgets/controls",
            "_view_module_version": "1.5.0",
            "_view_name": "ButtonView",
            "button_style": "primary",
            "description": "🎙️ Generate Voice",
            "disabled": false,
            "icon": "",
            "layout": "IPY_MODEL_c4576882485d4fcbaca47d681e1856e2",
            "style": "IPY_MODEL_437831515ed04b928c5222c98be59e33",
            "tooltip": ""
          }
        },
        "c4576882485d4fcbaca47d681e1856e2": {
          "model_module": "@jupyter-widgets/base",
          "model_name": "LayoutModel",
          "model_module_version": "1.2.0",
          "state": {
            "_model_module": "@jupyter-widgets/base",
            "_model_module_version": "1.2.0",
            "_model_name": "LayoutModel",
            "_view_count": null,
            "_view_module": "@jupyter-widgets/base",
            "_view_module_version": "1.2.0",
            "_view_name": "LayoutView",
            "align_content": null,
            "align_items": null,
            "align_self": null,
            "border": null,
            "bottom": null,
            "display": null,
            "flex": null,
            "flex_flow": null,
            "grid_area": null,
            "grid_auto_columns": null,
            "grid_auto_flow": null,
            "grid_auto_rows": null,
            "grid_column": null,
            "grid_gap": null,
            "grid_row": null,
            "grid_template_areas": null,
            "grid_template_columns": null,
            "grid_template_rows": null,
            "height": null,
            "justify_content": null,
            "justify_items": null,
            "left": null,
            "margin": "20px 0px 0px 0px",
            "max_height": null,
            "max_width": null,
            "min_height": null,
            "min_width": null,
            "object_fit": null,
            "object_position": null,
            "order": null,
            "overflow": null,
            "overflow_x": null,
            "overflow_y": null,
            "padding": null,
            "right": null,
            "top": null,
            "visibility": null,
            "width": "30%"
          }
        },
        "437831515ed04b928c5222c98be59e33": {
          "model_module": "@jupyter-widgets/controls",
          "model_name": "ButtonStyleModel",
          "model_module_version": "1.5.0",
          "state": {
            "_model_module": "@jupyter-widgets/controls",
            "_model_module_version": "1.5.0",
            "_model_name": "ButtonStyleModel",
            "_view_count": null,
            "_view_module": "@jupyter-widgets/base",
            "_view_module_version": "1.2.0",
            "_view_name": "StyleView",
            "button_color": null,
            "font_weight": ""
          }
        },
        "c9af0f0dc98244f4b6518312af161531": {
          "model_module": "@jupyter-widgets/output",
          "model_name": "OutputModel",
          "model_module_version": "1.0.0",
          "state": {
            "_dom_classes": [],
            "_model_module": "@jupyter-widgets/output",
            "_model_module_version": "1.0.0",
            "_model_name": "OutputModel",
            "_view_count": null,
            "_view_module": "@jupyter-widgets/output",
            "_view_module_version": "1.0.0",
            "_view_name": "OutputView",
            "layout": "IPY_MODEL_26e9ad5a506c4a9fbc37d454f7ffad86",
            "msg_id": "",
            "outputs": [
              {
                "output_type": "stream",
                "name": "stdout",
                "text": [
                  "✅ Playing at 1.0x speed\n"
                ]
              },
              {
                "output_type": "display_data",
                "data": {
                  "text/plain": "<IPython.lib.display.Audio object>",
                  "text/html": "\n                <audio  controls=\"controls\" autoplay=\"autoplay\">\n                    <source src=\"data:audio/mpeg;base64,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\" type=\"audio/mpeg\" />\n                    Your browser does not support the audio element.\n                </audio>\n              "
                },
                "metadata": {}
              },
              {
                "output_type": "display_data",
                "data": {
                  "text/plain": "<IPython.core.display.HTML object>",
                  "text/html": "<a download=\"your_audio.mp3\" href=\"files/final_output.mp3\" target=\"_blank\">⬇️ Click here to download your audio</a>"
                },
                "metadata": {}
              }
            ]
          }
        },
        "26e9ad5a506c4a9fbc37d454f7ffad86": {
          "model_module": "@jupyter-widgets/base",
          "model_name": "LayoutModel",
          "model_module_version": "1.2.0",
          "state": {
            "_model_module": "@jupyter-widgets/base",
            "_model_module_version": "1.2.0",
            "_model_name": "LayoutModel",
            "_view_count": null,
            "_view_module": "@jupyter-widgets/base",
            "_view_module_version": "1.2.0",
            "_view_name": "LayoutView",
            "align_content": null,
            "align_items": null,
            "align_self": null,
            "border": null,
            "bottom": null,
            "display": null,
            "flex": null,
            "flex_flow": null,
            "grid_area": null,
            "grid_auto_columns": null,
            "grid_auto_flow": null,
            "grid_auto_rows": null,
            "grid_column": null,
            "grid_gap": null,
            "grid_row": null,
            "grid_template_areas": null,
            "grid_template_columns": null,
            "grid_template_rows": null,
            "height": null,
            "justify_content": null,
            "justify_items": null,
            "left": null,
            "margin": null,
            "max_height": null,
            "max_width": null,
            "min_height": null,
            "min_width": null,
            "object_fit": null,
            "object_position": null,
            "order": null,
            "overflow": null,
            "overflow_x": null,
            "overflow_y": null,
            "padding": null,
            "right": null,
            "top": null,
            "visibility": null,
            "width": null
          }
        }
      }
    }
  },
  "cells": [
    {
      "cell_type": "markdown",
      "source": [
        "# Install required libraries\n",
        "!pip install gTTS\n",
        "import os\n",
        "from gtts import gTTS\n",
        "from IPython.display import Audio, display\n",
        "import ipywidgets as widgets\n",
        "\n",
        "# Dropdown for language selection\n",
        "language_dropdown = widgets.Dropdown(\n",
        "    options=[ ('English (India)', 'en-in'), ('Hindi', 'hi')],\n",
        "    value='en',\n",
        "    description='Language:'\n",
        ")\n",
        "\n",
        "# Text input\n",
        "text_input = widgets.Textarea(\n",
        "    placeholder='Enter text here...',\n",
        "    description='Your Text:',\n",
        "    layout=widgets.Layout(width='100%', height='100px')\n",
        ")\n",
        "\n",
        "# Button to trigger TTS\n",
        "generate_button = widgets.Button(description='Convert to Speech')\n",
        "\n",
        "# Output area\n",
        "output = widgets.Output()\n",
        "\n",
        "# Function to handle button click\n",
        "def on_button_click(b):\n",
        "    with output:\n",
        "        output.clear_output()\n",
        "        text = text_input.value\n",
        "        lang = language_dropdown.value\n",
        "        if text.strip() == \"\":\n",
        "            print(\"Please enter some text.\")\n",
        "            return\n",
        "        tts = gTTS(text=text, lang=lang)\n",
        "        tts.save(\"output.mp3\")\n",
        "        print(\"Here's your voice:\")\n",
        "        display(Audio(\"output.mp3\", autoplay=True))\n",
        "\n",
        "generate_button.on_click(on_button_click)\n",
        "\n",
        "# Display widgets\n",
        "display(language_dropdown, text_input, generate_button, output)"
      ],
      "metadata": {
        "id": "PV2NygWTnnM4"
      }
    },
    {
      "cell_type": "code",
      "source": [
        "# Install required packages\n",
        "!pip install gTTS pydub\n",
        "!apt install ffmpeg -y\n",
        "\n",
        "import os\n",
        "from gtts import gTTS\n",
        "from pydub import AudioSegment\n",
        "from IPython.display import Audio, display, HTML\n",
        "import ipywidgets as widgets\n",
        "\n",
        "# 🎨 Header Banner\n",
        "display(HTML(\"\"\"\n",
        "<div style=\"background: linear-gradient(to right, #74ebd5, #ACB6E5);\n",
        "            padding: 20px;\n",
        "            border-radius: 12px;\n",
        "            font-family: 'Segoe UI', sans-serif;\n",
        "            text-align: center;\n",
        "            color: #333;\n",
        "            margin-bottom: 20px;\n",
        "            box-shadow: 2px 2px 6px rgba(0,0,0,0.1);\">\n",
        "  <h2>🗣️ Speak, Control & Save!</h2>\n",
        "  <p>Create speech from your text, control playback speed, and download your voice output.</p>\n",
        "</div>\n",
        "\"\"\"))\n",
        "\n",
        "# Language dropdown\n",
        "language_dropdown = widgets.Dropdown(\n",
        "    options=[('English ', 'en'), ('Hindi', 'hi')],\n",
        "    value='en',\n",
        "    description='🌐 Language:',\n",
        "    style={'description_width': 'initial'}\n",
        ")\n",
        "\n",
        "# Text area\n",
        "text_input = widgets.Textarea(\n",
        "    placeholder='🎤 What do you want to say today?',\n",
        "    description='📝 Your Text:',\n",
        "    layout=widgets.Layout(width='100%', height='100px'),\n",
        "    style={'description_width': 'initial'}\n",
        ")\n",
        "\n",
        "# Speed slider\n",
        "speed_slider = widgets.FloatSlider(\n",
        "    value=1.0,\n",
        "    min=0.5,\n",
        "    max=1.5,\n",
        "    step=0.1,\n",
        "    description='⏩ Speed:',\n",
        "    layout=widgets.Layout(width='50%'),\n",
        "    style={'description_width': 'initial'}\n",
        ")\n",
        "\n",
        "# Button and output\n",
        "generate_button = widgets.Button(\n",
        "    description='🎙️ Generate Voice',\n",
        "    button_style='primary',\n",
        "    layout=widgets.Layout(width='30%', margin='20px 0px 0px 0px')\n",
        ")\n",
        "\n",
        "output = widgets.Output()\n",
        "\n",
        "# Function to handle logic\n",
        "def on_button_click(b):\n",
        "    with output:\n",
        "        output.clear_output()\n",
        "        text = text_input.value.strip()\n",
        "        lang = language_dropdown.value\n",
        "        speed = speed_slider.value\n",
        "\n",
        "        if not text:\n",
        "            print(\"⚠️ Please enter some text first.\")\n",
        "            return\n",
        "\n",
        "        # Generate speech\n",
        "        tts = gTTS(text=text, lang=lang)\n",
        "        tts.save(\"base_output.mp3\")\n",
        "\n",
        "        # Adjust speed using pydub\n",
        "        sound = AudioSegment.from_file(\"base_output.mp3\")\n",
        "        modified = sound._spawn(sound.raw_data, overrides={\n",
        "            \"frame_rate\": int(sound.frame_rate * speed)\n",
        "        }).set_frame_rate(sound.frame_rate)\n",
        "        modified.export(\"final_output.mp3\", format=\"mp3\")\n",
        "\n",
        "        # Playback and download\n",
        "        print(f\"✅ Playing at {speed:.1f}x speed\")\n",
        "        display(Audio(\"final_output.mp3\", autoplay=True))\n",
        "        display(HTML(f'<a download=\"your_audio.mp3\" href=\"files/final_output.mp3\" target=\"_blank\">⬇️ Click here to download your audio</a>'))\n",
        "\n",
        "generate_button.on_click(on_button_click)\n",
        "\n",
        "# Display everything\n",
        "display(language_dropdown, text_input, speed_slider, generate_button, output)"
      ],
      "metadata": {
        "colab": {
          "base_uri": "https://localhost:8080/",
          "height": 698,
          "referenced_widgets": [
            "f290da859d394b36a7d08ab43e3a91f4",
            "d68366cfa9514e43a49f1e31ba1fb21f",
            "f2c325bbe96648c799b0abfcb445cc1c",
            "980f9596c6cf404cb2cd754828fbebbe",
            "eaf100a983aa4517846e9488222c3df5",
            "0565a02d4118493da8d7ce25563a2462",
            "c8c7074f861f48739f16e743c62e0376",
            "bc50b200519c42f88f152e3b1e6d7d7d",
            "017ee65b13ab4a36be7cbdd3ab8e7ac2",
            "eaf1043ff759427eb2ac96f0a10e977b",
            "c4576882485d4fcbaca47d681e1856e2",
            "437831515ed04b928c5222c98be59e33",
            "c9af0f0dc98244f4b6518312af161531",
            "26e9ad5a506c4a9fbc37d454f7ffad86"
          ]
        },
        "id": "IYtVpMuWolvO",
        "outputId": "5a24e4dc-a5ef-4557-eea9-71d0f24db814"
      },
      "execution_count": 6,
      "outputs": [
        {
          "output_type": "stream",
          "name": "stdout",
          "text": [
            "Requirement already satisfied: gTTS in /usr/local/lib/python3.11/dist-packages (2.5.4)\n",
            "Requirement already satisfied: pydub in /usr/local/lib/python3.11/dist-packages (0.25.1)\n",
            "Requirement already satisfied: requests<3,>=2.27 in /usr/local/lib/python3.11/dist-packages (from gTTS) (2.32.3)\n",
            "Requirement already satisfied: click<8.2,>=7.1 in /usr/local/lib/python3.11/dist-packages (from gTTS) (8.1.8)\n",
            "Requirement already satisfied: charset-normalizer<4,>=2 in /usr/local/lib/python3.11/dist-packages (from requests<3,>=2.27->gTTS) (3.4.2)\n",
            "Requirement already satisfied: idna<4,>=2.5 in /usr/local/lib/python3.11/dist-packages (from requests<3,>=2.27->gTTS) (3.10)\n",
            "Requirement already satisfied: urllib3<3,>=1.21.1 in /usr/local/lib/python3.11/dist-packages (from requests<3,>=2.27->gTTS) (2.4.0)\n",
            "Requirement already satisfied: certifi>=2017.4.17 in /usr/local/lib/python3.11/dist-packages (from requests<3,>=2.27->gTTS) (2025.6.15)\n",
            "Reading package lists... Done\n",
            "Building dependency tree... Done\n",
            "Reading state information... Done\n",
            "ffmpeg is already the newest version (7:4.4.2-0ubuntu0.22.04.1).\n",
            "0 upgraded, 0 newly installed, 0 to remove and 35 not upgraded.\n"
          ]
        },
        {
          "output_type": "display_data",
          "data": {
            "text/plain": [
              "<IPython.core.display.HTML object>"
            ],
            "text/html": [
              "\n",
              "<div style=\"background: linear-gradient(to right, #74ebd5, #ACB6E5);\n",
              "            padding: 20px;\n",
              "            border-radius: 12px;\n",
              "            font-family: 'Segoe UI', sans-serif;\n",
              "            text-align: center;\n",
              "            color: #333;\n",
              "            margin-bottom: 20px;\n",
              "            box-shadow: 2px 2px 6px rgba(0,0,0,0.1);\">\n",
              "  <h2>🗣️ Speak, Control & Save!</h2>\n",
              "  <p>Create speech from your text, control playback speed, and download your voice output.</p>\n",
              "</div>\n"
            ]
          },
          "metadata": {}
        },
        {
          "output_type": "display_data",
          "data": {
            "text/plain": [
              "Dropdown(description='🌐 Language:', options=(('English ', 'en'), ('Hindi', 'hi')), style=DescriptionStyle(desc…"
            ],
            "application/vnd.jupyter.widget-view+json": {
              "version_major": 2,
              "version_minor": 0,
              "model_id": "f290da859d394b36a7d08ab43e3a91f4"
            }
          },
          "metadata": {}
        },
        {
          "output_type": "display_data",
          "data": {
            "text/plain": [
              "Textarea(value='', description='📝 Your Text:', layout=Layout(height='100px', width='100%'), placeholder='🎤 Wha…"
            ],
            "application/vnd.jupyter.widget-view+json": {
              "version_major": 2,
              "version_minor": 0,
              "model_id": "980f9596c6cf404cb2cd754828fbebbe"
            }
          },
          "metadata": {}
        },
        {
          "output_type": "display_data",
          "data": {
            "text/plain": [
              "FloatSlider(value=1.0, description='⏩ Speed:', layout=Layout(width='50%'), max=1.5, min=0.5, style=SliderStyle…"
            ],
            "application/vnd.jupyter.widget-view+json": {
              "version_major": 2,
              "version_minor": 0,
              "model_id": "c8c7074f861f48739f16e743c62e0376"
            }
          },
          "metadata": {}
        },
        {
          "output_type": "display_data",
          "data": {
            "text/plain": [
              "Button(button_style='primary', description='🎙️ Generate Voice', layout=Layout(margin='20px 0px 0px 0px', width…"
            ],
            "application/vnd.jupyter.widget-view+json": {
              "version_major": 2,
              "version_minor": 0,
              "model_id": "eaf1043ff759427eb2ac96f0a10e977b"
            }
          },
          "metadata": {}
        },
        {
          "output_type": "display_data",
          "data": {
            "text/plain": [
              "Output()"
            ],
            "application/vnd.jupyter.widget-view+json": {
              "version_major": 2,
              "version_minor": 0,
              "model_id": "c9af0f0dc98244f4b6518312af161531"
            }
          },
          "metadata": {}
        }
      ]
    }
  ]
}