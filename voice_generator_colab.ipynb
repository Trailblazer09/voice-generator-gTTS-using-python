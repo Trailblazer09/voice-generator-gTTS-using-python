{
  "nbformat": 4,
  "nbformat_minor": 0,
  "metadata": {
    "colab": {
      "provenance": []
    },
    "kernelspec": {
      "name": "python3",
      "display_name": "Python 3"
    },
    "language_info": {
      "name": "python"
    },
    "widgets": {
      "application/vnd.jupyter.widget-state+json": {
        "b522d7914dbc43969c5a9263e288160b": {
          "model_module": "@jupyter-widgets/controls",
          "model_name": "DropdownModel",
          "model_module_version": "1.5.0",
          "state": {
            "_dom_classes": [],
            "_model_module": "@jupyter-widgets/controls",
            "_model_module_version": "1.5.0",
            "_model_name": "DropdownModel",
            "_options_labels": [
              "English",
              "Hindi"
            ],
            "_view_count": null,
            "_view_module": "@jupyter-widgets/controls",
            "_view_module_version": "1.5.0",
            "_view_name": "DropdownView",
            "description": "🌐 Language:",
            "description_tooltip": null,
            "disabled": false,
            "index": 0,
            "layout": "IPY_MODEL_08b3a549cd42448b94a39899f8d5ff54",
            "style": "IPY_MODEL_05910bebf274481fb2f3db8dfa42b375"
          }
        },
        "08b3a549cd42448b94a39899f8d5ff54": {
          "model_module": "@jupyter-widgets/base",
          "model_name": "LayoutModel",
          "model_module_version": "1.2.0",
          "state": {
            "_model_module": "@jupyter-widgets/base",
            "_model_module_version": "1.2.0",
            "_model_name": "LayoutModel",
            "_view_count": null,
            "_view_module": "@jupyter-widgets/base",
            "_view_module_version": "1.2.0",
            "_view_name": "LayoutView",
            "align_content": null,
            "align_items": null,
            "align_self": null,
            "border": null,
            "bottom": null,
            "display": null,
            "flex": null,
            "flex_flow": null,
            "grid_area": null,
            "grid_auto_columns": null,
            "grid_auto_flow": null,
            "grid_auto_rows": null,
            "grid_column": null,
            "grid_gap": null,
            "grid_row": null,
            "grid_template_areas": null,
            "grid_template_columns": null,
            "grid_template_rows": null,
            "height": null,
            "justify_content": null,
            "justify_items": null,
            "left": null,
            "margin": null,
            "max_height": null,
            "max_width": null,
            "min_height": null,
            "min_width": null,
            "object_fit": null,
            "object_position": null,
            "order": null,
            "overflow": null,
            "overflow_x": null,
            "overflow_y": null,
            "padding": null,
            "right": null,
            "top": null,
            "visibility": null,
            "width": null
          }
        },
        "05910bebf274481fb2f3db8dfa42b375": {
          "model_module": "@jupyter-widgets/controls",
          "model_name": "DescriptionStyleModel",
          "model_module_version": "1.5.0",
          "state": {
            "_model_module": "@jupyter-widgets/controls",
            "_model_module_version": "1.5.0",
            "_model_name": "DescriptionStyleModel",
            "_view_count": null,
            "_view_module": "@jupyter-widgets/base",
            "_view_module_version": "1.2.0",
            "_view_name": "StyleView",
            "description_width": "initial"
          }
        },
        "9a4573a5892d4e8d8219e4a3212241f5": {
          "model_module": "@jupyter-widgets/controls",
          "model_name": "TextareaModel",
          "model_module_version": "1.5.0",
          "state": {
            "_dom_classes": [],
            "_model_module": "@jupyter-widgets/controls",
            "_model_module_version": "1.5.0",
            "_model_name": "TextareaModel",
            "_view_count": null,
            "_view_module": "@jupyter-widgets/controls",
            "_view_module_version": "1.5.0",
            "_view_name": "TextareaView",
            "continuous_update": true,
            "description": "📝 Your Text:",
            "description_tooltip": null,
            "disabled": false,
            "layout": "IPY_MODEL_510a8da44cd94169921b75b21f2126d4",
            "placeholder": "🎤 What do you want to say today?",
            "rows": null,
            "style": "IPY_MODEL_626cfc07fdbb49c891e696c160d3f805",
            "value": "hello everyone"
          }
        },
        "510a8da44cd94169921b75b21f2126d4": {
          "model_module": "@jupyter-widgets/base",
          "model_name": "LayoutModel",
          "model_module_version": "1.2.0",
          "state": {
            "_model_module": "@jupyter-widgets/base",
            "_model_module_version": "1.2.0",
            "_model_name": "LayoutModel",
            "_view_count": null,
            "_view_module": "@jupyter-widgets/base",
            "_view_module_version": "1.2.0",
            "_view_name": "LayoutView",
            "align_content": null,
            "align_items": null,
            "align_self": null,
            "border": null,
            "bottom": null,
            "display": null,
            "flex": null,
            "flex_flow": null,
            "grid_area": null,
            "grid_auto_columns": null,
            "grid_auto_flow": null,
            "grid_auto_rows": null,
            "grid_column": null,
            "grid_gap": null,
            "grid_row": null,
            "grid_template_areas": null,
            "grid_template_columns": null,
            "grid_template_rows": null,
            "height": "100px",
            "justify_content": null,
            "justify_items": null,
            "left": null,
            "margin": null,
            "max_height": null,
            "max_width": null,
            "min_height": null,
            "min_width": null,
            "object_fit": null,
            "object_position": null,
            "order": null,
            "overflow": null,
            "overflow_x": null,
            "overflow_y": null,
            "padding": null,
            "right": null,
            "top": null,
            "visibility": null,
            "width": "100%"
          }
        },
        "626cfc07fdbb49c891e696c160d3f805": {
          "model_module": "@jupyter-widgets/controls",
          "model_name": "DescriptionStyleModel",
          "model_module_version": "1.5.0",
          "state": {
            "_model_module": "@jupyter-widgets/controls",
            "_model_module_version": "1.5.0",
            "_model_name": "DescriptionStyleModel",
            "_view_count": null,
            "_view_module": "@jupyter-widgets/base",
            "_view_module_version": "1.2.0",
            "_view_name": "StyleView",
            "description_width": "initial"
          }
        },
        "8a521f7775164284ae906a35a9662abe": {
          "model_module": "@jupyter-widgets/controls",
          "model_name": "FloatSliderModel",
          "model_module_version": "1.5.0",
          "state": {
            "_dom_classes": [],
            "_model_module": "@jupyter-widgets/controls",
            "_model_module_version": "1.5.0",
            "_model_name": "FloatSliderModel",
            "_view_count": null,
            "_view_module": "@jupyter-widgets/controls",
            "_view_module_version": "1.5.0",
            "_view_name": "FloatSliderView",
            "continuous_update": true,
            "description": "⏩ Speed:",
            "description_tooltip": null,
            "disabled": false,
            "layout": "IPY_MODEL_2739dc609a064bd1ac7698fd69b972fc",
            "max": 1.5,
            "min": 0.5,
            "orientation": "horizontal",
            "readout": true,
            "readout_format": ".2f",
            "step": 0.1,
            "style": "IPY_MODEL_d3e1988e0c7f4700a713eca37713f46b",
            "value": 1
          }
        },
        "2739dc609a064bd1ac7698fd69b972fc": {
          "model_module": "@jupyter-widgets/base",
          "model_name": "LayoutModel",
          "model_module_version": "1.2.0",
          "state": {
            "_model_module": "@jupyter-widgets/base",
            "_model_module_version": "1.2.0",
            "_model_name": "LayoutModel",
            "_view_count": null,
            "_view_module": "@jupyter-widgets/base",
            "_view_module_version": "1.2.0",
            "_view_name": "LayoutView",
            "align_content": null,
            "align_items": null,
            "align_self": null,
            "border": null,
            "bottom": null,
            "display": null,
            "flex": null,
            "flex_flow": null,
            "grid_area": null,
            "grid_auto_columns": null,
            "grid_auto_flow": null,
            "grid_auto_rows": null,
            "grid_column": null,
            "grid_gap": null,
            "grid_row": null,
            "grid_template_areas": null,
            "grid_template_columns": null,
            "grid_template_rows": null,
            "height": null,
            "justify_content": null,
            "justify_items": null,
            "left": null,
            "margin": null,
            "max_height": null,
            "max_width": null,
            "min_height": null,
            "min_width": null,
            "object_fit": null,
            "object_position": null,
            "order": null,
            "overflow": null,
            "overflow_x": null,
            "overflow_y": null,
            "padding": null,
            "right": null,
            "top": null,
            "visibility": null,
            "width": "50%"
          }
        },
        "d3e1988e0c7f4700a713eca37713f46b": {
          "model_module": "@jupyter-widgets/controls",
          "model_name": "SliderStyleModel",
          "model_module_version": "1.5.0",
          "state": {
            "_model_module": "@jupyter-widgets/controls",
            "_model_module_version": "1.5.0",
            "_model_name": "SliderStyleModel",
            "_view_count": null,
            "_view_module": "@jupyter-widgets/base",
            "_view_module_version": "1.2.0",
            "_view_name": "StyleView",
            "description_width": "initial",
            "handle_color": null
          }
        },
        "b022b440792d4cce9f0a44bb5763ec79": {
          "model_module": "@jupyter-widgets/controls",
          "model_name": "ButtonModel",
          "model_module_version": "1.5.0",
          "state": {
            "_dom_classes": [],
            "_model_module": "@jupyter-widgets/controls",
            "_model_module_version": "1.5.0",
            "_model_name": "ButtonModel",
            "_view_count": null,
            "_view_module": "@jupyter-widgets/controls",
            "_view_module_version": "1.5.0",
            "_view_name": "ButtonView",
            "button_style": "primary",
            "description": "🎙️ Generate Voice",
            "disabled": false,
            "icon": "",
            "layout": "IPY_MODEL_68b08f80bb2f4e8abe826de5b00249b9",
            "style": "IPY_MODEL_8c65e590f92d40a6a56c8764eaab5b83",
            "tooltip": ""
          }
        },
        "68b08f80bb2f4e8abe826de5b00249b9": {
          "model_module": "@jupyter-widgets/base",
          "model_name": "LayoutModel",
          "model_module_version": "1.2.0",
          "state": {
            "_model_module": "@jupyter-widgets/base",
            "_model_module_version": "1.2.0",
            "_model_name": "LayoutModel",
            "_view_count": null,
            "_view_module": "@jupyter-widgets/base",
            "_view_module_version": "1.2.0",
            "_view_name": "LayoutView",
            "align_content": null,
            "align_items": null,
            "align_self": null,
            "border": null,
            "bottom": null,
            "display": null,
            "flex": null,
            "flex_flow": null,
            "grid_area": null,
            "grid_auto_columns": null,
            "grid_auto_flow": null,
            "grid_auto_rows": null,
            "grid_column": null,
            "grid_gap": null,
            "grid_row": null,
            "grid_template_areas": null,
            "grid_template_columns": null,
            "grid_template_rows": null,
            "height": null,
            "justify_content": null,
            "justify_items": null,
            "left": null,
            "margin": "20px 0px 0px 0px",
            "max_height": null,
            "max_width": null,
            "min_height": null,
            "min_width": null,
            "object_fit": null,
            "object_position": null,
            "order": null,
            "overflow": null,
            "overflow_x": null,
            "overflow_y": null,
            "padding": null,
            "right": null,
            "top": null,
            "visibility": null,
            "width": "30%"
          }
        },
        "8c65e590f92d40a6a56c8764eaab5b83": {
          "model_module": "@jupyter-widgets/controls",
          "model_name": "ButtonStyleModel",
          "model_module_version": "1.5.0",
          "state": {
            "_model_module": "@jupyter-widgets/controls",
            "_model_module_version": "1.5.0",
            "_model_name": "ButtonStyleModel",
            "_view_count": null,
            "_view_module": "@jupyter-widgets/base",
            "_view_module_version": "1.2.0",
            "_view_name": "StyleView",
            "button_color": null,
            "font_weight": ""
          }
        },
        "80e8980579034db4b4094da06adab67d": {
          "model_module": "@jupyter-widgets/output",
          "model_name": "OutputModel",
          "model_module_version": "1.0.0",
          "state": {
            "_dom_classes": [],
            "_model_module": "@jupyter-widgets/output",
            "_model_module_version": "1.0.0",
            "_model_name": "OutputModel",
            "_view_count": null,
            "_view_module": "@jupyter-widgets/output",
            "_view_module_version": "1.0.0",
            "_view_name": "OutputView",
            "layout": "IPY_MODEL_a4d23b2b3b16413eac6a032b56ea3526",
            "msg_id": "",
            "outputs": [
              {
                "output_type": "stream",
                "name": "stdout",
                "text": [
                  "✅ Playing at 1.0x speed\n"
                ]
              },
              {
                "output_type": "display_data",
                "data": {
                  "text/plain": "<IPython.lib.display.Audio object>",
                  "text/html": "\n                <audio  controls=\"controls\" autoplay=\"autoplay\">\n                    <source src=\"data:audio/mpeg;base64,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\" type=\"audio/mpeg\" />\n                    Your browser does not support the audio element.\n                </audio>\n              "
                },
                "metadata": {}
              },
              {
                "output_type": "display_data",
                "data": {
                  "text/plain": "<IPython.core.display.HTML object>",
                  "text/html": "\n          <div style=\"margin-top: 10px;\">\n            <a style=\"text-decoration: none; color: #1a73e8; font-size: 16px;\">\n              ⬇️ Click here to download your audio\n            </a>\n          </div>\n        "
                },
                "metadata": {}
              },
              {
                "output_type": "display_data",
                "data": {
                  "text/plain": "<IPython.core.display.Javascript object>",
                  "application/javascript": "\n    async function download(id, filename, size) {\n      if (!google.colab.kernel.accessAllowed) {\n        return;\n      }\n      const div = document.createElement('div');\n      const label = document.createElement('label');\n      label.textContent = `Downloading \"${filename}\": `;\n      div.appendChild(label);\n      const progress = document.createElement('progress');\n      progress.max = size;\n      div.appendChild(progress);\n      document.body.appendChild(div);\n\n      const buffers = [];\n      let downloaded = 0;\n\n      const channel = await google.colab.kernel.comms.open(id);\n      // Send a message to notify the kernel that we're ready.\n      channel.send({})\n\n      for await (const message of channel.messages) {\n        // Send a message to notify the kernel that we're ready.\n        channel.send({})\n        if (message.buffers) {\n          for (const buffer of message.buffers) {\n            buffers.push(buffer);\n            downloaded += buffer.byteLength;\n            progress.value = downloaded;\n          }\n        }\n      }\n      const blob = new Blob(buffers, {type: 'application/binary'});\n      const a = document.createElement('a');\n      a.href = window.URL.createObjectURL(blob);\n      a.download = filename;\n      div.appendChild(a);\n      a.click();\n      div.remove();\n    }\n  "
                },
                "metadata": {}
              },
              {
                "output_type": "display_data",
                "data": {
                  "text/plain": "<IPython.core.display.Javascript object>",
                  "application/javascript": "download(\"download_c5b70538-7601-495a-b547-8876c4068f0e\", \"final_output.mp3\", 6189)"
                },
                "metadata": {}
              }
            ]
          }
        },
        "a4d23b2b3b16413eac6a032b56ea3526": {
          "model_module": "@jupyter-widgets/base",
          "model_name": "LayoutModel",
          "model_module_version": "1.2.0",
          "state": {
            "_model_module": "@jupyter-widgets/base",
            "_model_module_version": "1.2.0",
            "_model_name": "LayoutModel",
            "_view_count": null,
            "_view_module": "@jupyter-widgets/base",
            "_view_module_version": "1.2.0",
            "_view_name": "LayoutView",
            "align_content": null,
            "align_items": null,
            "align_self": null,
            "border": null,
            "bottom": null,
            "display": null,
            "flex": null,
            "flex_flow": null,
            "grid_area": null,
            "grid_auto_columns": null,
            "grid_auto_flow": null,
            "grid_auto_rows": null,
            "grid_column": null,
            "grid_gap": null,
            "grid_row": null,
            "grid_template_areas": null,
            "grid_template_columns": null,
            "grid_template_rows": null,
            "height": null,
            "justify_content": null,
            "justify_items": null,
            "left": null,
            "margin": null,
            "max_height": null,
            "max_width": null,
            "min_height": null,
            "min_width": null,
            "object_fit": null,
            "object_position": null,
            "order": null,
            "overflow": null,
            "overflow_x": null,
            "overflow_y": null,
            "padding": null,
            "right": null,
            "top": null,
            "visibility": null,
            "width": null
          }
        }
      }
    }
  },
  "cells": [
    {
      "cell_type": "markdown",
      "source": [
        "# Install required libraries\n",
        "!pip install gTTS\n",
        "import os\n",
        "from gtts import gTTS\n",
        "from IPython.display import Audio, display\n",
        "import ipywidgets as widgets\n",
        "\n",
        "# Dropdown for language selection\n",
        "language_dropdown = widgets.Dropdown(\n",
        "    options=[ ('English (India)', 'en-in'), ('Hindi', 'hi')],\n",
        "    value='en',\n",
        "    description='Language:'\n",
        ")\n",
        "\n",
        "# Text input\n",
        "text_input = widgets.Textarea(\n",
        "    placeholder='Enter text here...',\n",
        "    description='Your Text:',\n",
        "    layout=widgets.Layout(width='100%', height='100px')\n",
        ")\n",
        "\n",
        "# Button to trigger TTS\n",
        "generate_button = widgets.Button(description='Convert to Speech')\n",
        "\n",
        "# Output area\n",
        "output = widgets.Output()\n",
        "\n",
        "# Function to handle button click\n",
        "def on_button_click(b):\n",
        "    with output:\n",
        "        output.clear_output()\n",
        "        text = text_input.value\n",
        "        lang = language_dropdown.value\n",
        "        if text.strip() == \"\":\n",
        "            print(\"Please enter some text.\")\n",
        "            return\n",
        "        tts = gTTS(text=text, lang=lang)\n",
        "        tts.save(\"output.mp3\")\n",
        "        print(\"Here's your voice:\")\n",
        "        display(Audio(\"output.mp3\", autoplay=True))\n",
        "\n",
        "generate_button.on_click(on_button_click)\n",
        "\n",
        "# Display widgets\n",
        "display(language_dropdown, text_input, generate_button, output)"
      ],
      "metadata": {
        "id": "PV2NygWTnnM4"
      }
    },
    {
      "cell_type": "code",
      "source": [
        "# 📦 Install required packages\n",
        "!pip install gTTS pydub\n",
        "!apt install ffmpeg -y\n",
        "\n",
        "import os\n",
        "import time\n",
        "from gtts import gTTS\n",
        "from pydub import AudioSegment\n",
        "from IPython.display import Audio, display, HTML\n",
        "import ipywidgets as widgets\n",
        "from google.colab import files  # For Colab download\n",
        "\n",
        "# 🎨 Header Banner\n",
        "display(HTML(\"\"\"\n",
        "<div style=\"background: linear-gradient(to right, #74ebd5, #ACB6E5);\n",
        "            padding: 20px;\n",
        "            border-radius: 12px;\n",
        "            font-family: 'Segoe UI', sans-serif;\n",
        "            text-align: center;\n",
        "            color: #333;\n",
        "            margin-bottom: 20px;\n",
        "            box-shadow: 2px 2px 6px rgba(0,0,0,0.1);\">\n",
        "  <h2>🗣️ Speak, Control & Save!</h2>\n",
        "  <p>Create speech from your text, control playback speed, and download your voice output.</p>\n",
        "</div>\n",
        "\"\"\"))\n",
        "\n",
        "# 🎛️ UI Elements\n",
        "language_dropdown = widgets.Dropdown(\n",
        "    options=[('English', 'en'), ('Hindi', 'hi')],\n",
        "    value='en',\n",
        "    description='🌐 Language:',\n",
        "    style={'description_width': 'initial'}\n",
        ")\n",
        "\n",
        "text_input = widgets.Textarea(\n",
        "    placeholder='🎤 What do you want to say today?',\n",
        "    description='📝 Your Text:',\n",
        "    layout=widgets.Layout(width='100%', height='100px'),\n",
        "    style={'description_width': 'initial'}\n",
        ")\n",
        "\n",
        "speed_slider = widgets.FloatSlider(\n",
        "    value=1.0,\n",
        "    min=0.5,\n",
        "    max=1.5,\n",
        "    step=0.1,\n",
        "    description='⏩ Speed:',\n",
        "    layout=widgets.Layout(width='50%'),\n",
        "    style={'description_width': 'initial'}\n",
        ")\n",
        "\n",
        "generate_button = widgets.Button(\n",
        "    description='🎙️ Generate Voice',\n",
        "    button_style='primary',\n",
        "    layout=widgets.Layout(width='30%', margin='20px 0px 0px 0px')\n",
        ")\n",
        "\n",
        "output = widgets.Output()\n",
        "\n",
        "# 🎯 Logic: Generate Voice on Button Click\n",
        "def on_button_click(b):\n",
        "    with output:\n",
        "        output.clear_output()\n",
        "        text = text_input.value.strip()\n",
        "        lang = language_dropdown.value\n",
        "        speed = speed_slider.value\n",
        "\n",
        "        if not text:\n",
        "            print(\"⚠️ Please enter some text first.\")\n",
        "            return\n",
        "\n",
        "        # Step 1: Generate speech with gTTS\n",
        "        tts = gTTS(text=text, lang=lang)\n",
        "        tts.save(\"base_output.mp3\")\n",
        "\n",
        "        # Step 2: Adjust speed with pydub\n",
        "        sound = AudioSegment.from_file(\"base_output.mp3\")\n",
        "        modified = sound._spawn(sound.raw_data, overrides={\n",
        "            \"frame_rate\": int(sound.frame_rate * speed)\n",
        "        }).set_frame_rate(sound.frame_rate)\n",
        "        modified.export(\"final_output.mp3\", format=\"mp3\")\n",
        "\n",
        "        # Step 3: Playback\n",
        "        print(f\"✅ Playing at {speed:.1f}x speed\")\n",
        "        display(Audio(\"final_output.mp3\", autoplay=True))\n",
        "\n",
        "        # Step 4: Styled visual link (non-functional, just for UI/screenshot)\n",
        "        display(HTML('''\n",
        "          <div style=\"margin-top: 10px;\">\n",
        "            <a style=\"text-decoration: none; color: #1a73e8; font-size: 16px;\">\n",
        "              ⬇️ Click here to download your audio\n",
        "            </a>\n",
        "          </div>\n",
        "        '''))\n",
        "\n",
        "        # Step 5: Delay for user to see UI, then trigger download\n",
        "        time.sleep(2)\n",
        "        files.download(\"final_output.mp3\")\n",
        "\n",
        "# 🔘 Wire it up\n",
        "generate_button.on_click(on_button_click)\n",
        "\n",
        "# 🚀 Launch the UI\n",
        "display(language_dropdown, text_input, speed_slider, generate_button, output)"
      ],
      "metadata": {
        "colab": {
          "base_uri": "https://localhost:8080/",
          "height": 711,
          "referenced_widgets": [
            "b522d7914dbc43969c5a9263e288160b",
            "08b3a549cd42448b94a39899f8d5ff54",
            "05910bebf274481fb2f3db8dfa42b375",
            "9a4573a5892d4e8d8219e4a3212241f5",
            "510a8da44cd94169921b75b21f2126d4",
            "626cfc07fdbb49c891e696c160d3f805",
            "8a521f7775164284ae906a35a9662abe",
            "2739dc609a064bd1ac7698fd69b972fc",
            "d3e1988e0c7f4700a713eca37713f46b",
            "b022b440792d4cce9f0a44bb5763ec79",
            "68b08f80bb2f4e8abe826de5b00249b9",
            "8c65e590f92d40a6a56c8764eaab5b83",
            "80e8980579034db4b4094da06adab67d",
            "a4d23b2b3b16413eac6a032b56ea3526"
          ]
        },
        "id": "IYtVpMuWolvO",
        "outputId": "52843d9b-1a4e-4095-81c7-017632d4636f"
      },
      "execution_count": 12,
      "outputs": [
        {
          "output_type": "stream",
          "name": "stdout",
          "text": [
            "Requirement already satisfied: gTTS in /usr/local/lib/python3.11/dist-packages (2.5.4)\n",
            "Requirement already satisfied: pydub in /usr/local/lib/python3.11/dist-packages (0.25.1)\n",
            "Requirement already satisfied: requests<3,>=2.27 in /usr/local/lib/python3.11/dist-packages (from gTTS) (2.32.3)\n",
            "Requirement already satisfied: click<8.2,>=7.1 in /usr/local/lib/python3.11/dist-packages (from gTTS) (8.1.8)\n",
            "Requirement already satisfied: charset-normalizer<4,>=2 in /usr/local/lib/python3.11/dist-packages (from requests<3,>=2.27->gTTS) (3.4.2)\n",
            "Requirement already satisfied: idna<4,>=2.5 in /usr/local/lib/python3.11/dist-packages (from requests<3,>=2.27->gTTS) (3.10)\n",
            "Requirement already satisfied: urllib3<3,>=1.21.1 in /usr/local/lib/python3.11/dist-packages (from requests<3,>=2.27->gTTS) (2.4.0)\n",
            "Requirement already satisfied: certifi>=2017.4.17 in /usr/local/lib/python3.11/dist-packages (from requests<3,>=2.27->gTTS) (2025.6.15)\n",
            "Reading package lists... Done\n",
            "Building dependency tree... Done\n",
            "Reading state information... Done\n",
            "ffmpeg is already the newest version (7:4.4.2-0ubuntu0.22.04.1).\n",
            "0 upgraded, 0 newly installed, 0 to remove and 35 not upgraded.\n"
          ]
        },
        {
          "output_type": "display_data",
          "data": {
            "text/plain": [
              "<IPython.core.display.HTML object>"
            ],
            "text/html": [
              "\n",
              "<div style=\"background: linear-gradient(to right, #74ebd5, #ACB6E5);\n",
              "            padding: 20px;\n",
              "            border-radius: 12px;\n",
              "            font-family: 'Segoe UI', sans-serif;\n",
              "            text-align: center;\n",
              "            color: #333;\n",
              "            margin-bottom: 20px;\n",
              "            box-shadow: 2px 2px 6px rgba(0,0,0,0.1);\">\n",
              "  <h2>🗣️ Speak, Control & Save!</h2>\n",
              "  <p>Create speech from your text, control playback speed, and download your voice output.</p>\n",
              "</div>\n"
            ]
          },
          "metadata": {}
        },
        {
          "output_type": "display_data",
          "data": {
            "text/plain": [
              "Dropdown(description='🌐 Language:', options=(('English', 'en'), ('Hindi', 'hi')), style=DescriptionStyle(descr…"
            ],
            "application/vnd.jupyter.widget-view+json": {
              "version_major": 2,
              "version_minor": 0,
              "model_id": "b522d7914dbc43969c5a9263e288160b"
            }
          },
          "metadata": {}
        },
        {
          "output_type": "display_data",
          "data": {
            "text/plain": [
              "Textarea(value='', description='📝 Your Text:', layout=Layout(height='100px', width='100%'), placeholder='🎤 Wha…"
            ],
            "application/vnd.jupyter.widget-view+json": {
              "version_major": 2,
              "version_minor": 0,
              "model_id": "9a4573a5892d4e8d8219e4a3212241f5"
            }
          },
          "metadata": {}
        },
        {
          "output_type": "display_data",
          "data": {
            "text/plain": [
              "FloatSlider(value=1.0, description='⏩ Speed:', layout=Layout(width='50%'), max=1.5, min=0.5, style=SliderStyle…"
            ],
            "application/vnd.jupyter.widget-view+json": {
              "version_major": 2,
              "version_minor": 0,
              "model_id": "8a521f7775164284ae906a35a9662abe"
            }
          },
          "metadata": {}
        },
        {
          "output_type": "display_data",
          "data": {
            "text/plain": [
              "Button(button_style='primary', description='🎙️ Generate Voice', layout=Layout(margin='20px 0px 0px 0px', width…"
            ],
            "application/vnd.jupyter.widget-view+json": {
              "version_major": 2,
              "version_minor": 0,
              "model_id": "b022b440792d4cce9f0a44bb5763ec79"
            }
          },
          "metadata": {}
        },
        {
          "output_type": "display_data",
          "data": {
            "text/plain": [
              "Output()"
            ],
            "application/vnd.jupyter.widget-view+json": {
              "version_major": 2,
              "version_minor": 0,
              "model_id": "80e8980579034db4b4094da06adab67d"
            }
          },
          "metadata": {}
        }
      ]
    }
  ]
}