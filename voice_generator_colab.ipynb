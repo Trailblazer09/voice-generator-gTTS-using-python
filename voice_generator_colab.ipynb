{
  "nbformat": 4,
  "nbformat_minor": 0,
  "metadata": {
    "colab": {
      "provenance": []
    },
    "kernelspec": {
      "name": "python3",
      "display_name": "Python 3"
    },
    "language_info": {
      "name": "python"
    },
    "widgets": {
      "application/vnd.jupyter.widget-state+json": {
        "b2e92081de024c1fbf1ff2a11e2d5ccf": {
          "model_module": "@jupyter-widgets/controls",
          "model_name": "DropdownModel",
          "model_module_version": "1.5.0",
          "state": {
            "_dom_classes": [],
            "_model_module": "@jupyter-widgets/controls",
            "_model_module_version": "1.5.0",
            "_model_name": "DropdownModel",
            "_options_labels": [
              "English",
              "Hindi"
            ],
            "_view_count": null,
            "_view_module": "@jupyter-widgets/controls",
            "_view_module_version": "1.5.0",
            "_view_name": "DropdownView",
            "description": "🌐 Language:",
            "description_tooltip": null,
            "disabled": false,
            "index": 0,
            "layout": "IPY_MODEL_44fe4f09e015489dbc4f536f7fd39773",
            "style": "IPY_MODEL_56e2c091f67e4bd59c60e386cec7d570"
          }
        },
        "44fe4f09e015489dbc4f536f7fd39773": {
          "model_module": "@jupyter-widgets/base",
          "model_name": "LayoutModel",
          "model_module_version": "1.2.0",
          "state": {
            "_model_module": "@jupyter-widgets/base",
            "_model_module_version": "1.2.0",
            "_model_name": "LayoutModel",
            "_view_count": null,
            "_view_module": "@jupyter-widgets/base",
            "_view_module_version": "1.2.0",
            "_view_name": "LayoutView",
            "align_content": null,
            "align_items": null,
            "align_self": null,
            "border": null,
            "bottom": null,
            "display": null,
            "flex": null,
            "flex_flow": null,
            "grid_area": null,
            "grid_auto_columns": null,
            "grid_auto_flow": null,
            "grid_auto_rows": null,
            "grid_column": null,
            "grid_gap": null,
            "grid_row": null,
            "grid_template_areas": null,
            "grid_template_columns": null,
            "grid_template_rows": null,
            "height": null,
            "justify_content": null,
            "justify_items": null,
            "left": null,
            "margin": null,
            "max_height": null,
            "max_width": null,
            "min_height": null,
            "min_width": null,
            "object_fit": null,
            "object_position": null,
            "order": null,
            "overflow": null,
            "overflow_x": null,
            "overflow_y": null,
            "padding": null,
            "right": null,
            "top": null,
            "visibility": null,
            "width": null
          }
        },
        "56e2c091f67e4bd59c60e386cec7d570": {
          "model_module": "@jupyter-widgets/controls",
          "model_name": "DescriptionStyleModel",
          "model_module_version": "1.5.0",
          "state": {
            "_model_module": "@jupyter-widgets/controls",
            "_model_module_version": "1.5.0",
            "_model_name": "DescriptionStyleModel",
            "_view_count": null,
            "_view_module": "@jupyter-widgets/base",
            "_view_module_version": "1.2.0",
            "_view_name": "StyleView",
            "description_width": "initial"
          }
        },
        "70dc27cac4fd4db8a05402acb673de6d": {
          "model_module": "@jupyter-widgets/controls",
          "model_name": "TextareaModel",
          "model_module_version": "1.5.0",
          "state": {
            "_dom_classes": [],
            "_model_module": "@jupyter-widgets/controls",
            "_model_module_version": "1.5.0",
            "_model_name": "TextareaModel",
            "_view_count": null,
            "_view_module": "@jupyter-widgets/controls",
            "_view_module_version": "1.5.0",
            "_view_name": "TextareaView",
            "continuous_update": true,
            "description": "📝 Your Text:",
            "description_tooltip": null,
            "disabled": false,
            "layout": "IPY_MODEL_a76cd6389ab847d7bec5438c1c83b019",
            "placeholder": "🎤 What do you want to say today?",
            "rows": null,
            "style": "IPY_MODEL_fe7799727add4de59bdff24d837adba3",
            "value": "hello , welcome"
          }
        },
        "a76cd6389ab847d7bec5438c1c83b019": {
          "model_module": "@jupyter-widgets/base",
          "model_name": "LayoutModel",
          "model_module_version": "1.2.0",
          "state": {
            "_model_module": "@jupyter-widgets/base",
            "_model_module_version": "1.2.0",
            "_model_name": "LayoutModel",
            "_view_count": null,
            "_view_module": "@jupyter-widgets/base",
            "_view_module_version": "1.2.0",
            "_view_name": "LayoutView",
            "align_content": null,
            "align_items": null,
            "align_self": null,
            "border": null,
            "bottom": null,
            "display": null,
            "flex": null,
            "flex_flow": null,
            "grid_area": null,
            "grid_auto_columns": null,
            "grid_auto_flow": null,
            "grid_auto_rows": null,
            "grid_column": null,
            "grid_gap": null,
            "grid_row": null,
            "grid_template_areas": null,
            "grid_template_columns": null,
            "grid_template_rows": null,
            "height": "100px",
            "justify_content": null,
            "justify_items": null,
            "left": null,
            "margin": null,
            "max_height": null,
            "max_width": null,
            "min_height": null,
            "min_width": null,
            "object_fit": null,
            "object_position": null,
            "order": null,
            "overflow": null,
            "overflow_x": null,
            "overflow_y": null,
            "padding": null,
            "right": null,
            "top": null,
            "visibility": null,
            "width": "100%"
          }
        },
        "fe7799727add4de59bdff24d837adba3": {
          "model_module": "@jupyter-widgets/controls",
          "model_name": "DescriptionStyleModel",
          "model_module_version": "1.5.0",
          "state": {
            "_model_module": "@jupyter-widgets/controls",
            "_model_module_version": "1.5.0",
            "_model_name": "DescriptionStyleModel",
            "_view_count": null,
            "_view_module": "@jupyter-widgets/base",
            "_view_module_version": "1.2.0",
            "_view_name": "StyleView",
            "description_width": "initial"
          }
        },
        "1cd28c6702b146efb97ee874b44d7db8": {
          "model_module": "@jupyter-widgets/controls",
          "model_name": "FloatSliderModel",
          "model_module_version": "1.5.0",
          "state": {
            "_dom_classes": [],
            "_model_module": "@jupyter-widgets/controls",
            "_model_module_version": "1.5.0",
            "_model_name": "FloatSliderModel",
            "_view_count": null,
            "_view_module": "@jupyter-widgets/controls",
            "_view_module_version": "1.5.0",
            "_view_name": "FloatSliderView",
            "continuous_update": true,
            "description": "⏩ Speed:",
            "description_tooltip": null,
            "disabled": false,
            "layout": "IPY_MODEL_b1b66c6109a9435f9e6a59a23acd9dea",
            "max": 1.5,
            "min": 0.5,
            "orientation": "horizontal",
            "readout": true,
            "readout_format": ".2f",
            "step": 0.1,
            "style": "IPY_MODEL_6ddd1c4785d343b9b5bf7cc1844806f0",
            "value": 1
          }
        },
        "b1b66c6109a9435f9e6a59a23acd9dea": {
          "model_module": "@jupyter-widgets/base",
          "model_name": "LayoutModel",
          "model_module_version": "1.2.0",
          "state": {
            "_model_module": "@jupyter-widgets/base",
            "_model_module_version": "1.2.0",
            "_model_name": "LayoutModel",
            "_view_count": null,
            "_view_module": "@jupyter-widgets/base",
            "_view_module_version": "1.2.0",
            "_view_name": "LayoutView",
            "align_content": null,
            "align_items": null,
            "align_self": null,
            "border": null,
            "bottom": null,
            "display": null,
            "flex": null,
            "flex_flow": null,
            "grid_area": null,
            "grid_auto_columns": null,
            "grid_auto_flow": null,
            "grid_auto_rows": null,
            "grid_column": null,
            "grid_gap": null,
            "grid_row": null,
            "grid_template_areas": null,
            "grid_template_columns": null,
            "grid_template_rows": null,
            "height": null,
            "justify_content": null,
            "justify_items": null,
            "left": null,
            "margin": null,
            "max_height": null,
            "max_width": null,
            "min_height": null,
            "min_width": null,
            "object_fit": null,
            "object_position": null,
            "order": null,
            "overflow": null,
            "overflow_x": null,
            "overflow_y": null,
            "padding": null,
            "right": null,
            "top": null,
            "visibility": null,
            "width": "50%"
          }
        },
        "6ddd1c4785d343b9b5bf7cc1844806f0": {
          "model_module": "@jupyter-widgets/controls",
          "model_name": "SliderStyleModel",
          "model_module_version": "1.5.0",
          "state": {
            "_model_module": "@jupyter-widgets/controls",
            "_model_module_version": "1.5.0",
            "_model_name": "SliderStyleModel",
            "_view_count": null,
            "_view_module": "@jupyter-widgets/base",
            "_view_module_version": "1.2.0",
            "_view_name": "StyleView",
            "description_width": "initial",
            "handle_color": null
          }
        },
        "19a6cad66899401fbba5a2fb06e2eef5": {
          "model_module": "@jupyter-widgets/controls",
          "model_name": "ButtonModel",
          "model_module_version": "1.5.0",
          "state": {
            "_dom_classes": [],
            "_model_module": "@jupyter-widgets/controls",
            "_model_module_version": "1.5.0",
            "_model_name": "ButtonModel",
            "_view_count": null,
            "_view_module": "@jupyter-widgets/controls",
            "_view_module_version": "1.5.0",
            "_view_name": "ButtonView",
            "button_style": "primary",
            "description": "🎙️ Generate Voice",
            "disabled": false,
            "icon": "",
            "layout": "IPY_MODEL_f76daf96dc494738bfa2834912f20dde",
            "style": "IPY_MODEL_1527a6f278d94a58afa2985fa05ad9dc",
            "tooltip": ""
          }
        },
        "f76daf96dc494738bfa2834912f20dde": {
          "model_module": "@jupyter-widgets/base",
          "model_name": "LayoutModel",
          "model_module_version": "1.2.0",
          "state": {
            "_model_module": "@jupyter-widgets/base",
            "_model_module_version": "1.2.0",
            "_model_name": "LayoutModel",
            "_view_count": null,
            "_view_module": "@jupyter-widgets/base",
            "_view_module_version": "1.2.0",
            "_view_name": "LayoutView",
            "align_content": null,
            "align_items": null,
            "align_self": null,
            "border": null,
            "bottom": null,
            "display": null,
            "flex": null,
            "flex_flow": null,
            "grid_area": null,
            "grid_auto_columns": null,
            "grid_auto_flow": null,
            "grid_auto_rows": null,
            "grid_column": null,
            "grid_gap": null,
            "grid_row": null,
            "grid_template_areas": null,
            "grid_template_columns": null,
            "grid_template_rows": null,
            "height": null,
            "justify_content": null,
            "justify_items": null,
            "left": null,
            "margin": "20px 0px 0px 0px",
            "max_height": null,
            "max_width": null,
            "min_height": null,
            "min_width": null,
            "object_fit": null,
            "object_position": null,
            "order": null,
            "overflow": null,
            "overflow_x": null,
            "overflow_y": null,
            "padding": null,
            "right": null,
            "top": null,
            "visibility": null,
            "width": "30%"
          }
        },
        "1527a6f278d94a58afa2985fa05ad9dc": {
          "model_module": "@jupyter-widgets/controls",
          "model_name": "ButtonStyleModel",
          "model_module_version": "1.5.0",
          "state": {
            "_model_module": "@jupyter-widgets/controls",
            "_model_module_version": "1.5.0",
            "_model_name": "ButtonStyleModel",
            "_view_count": null,
            "_view_module": "@jupyter-widgets/base",
            "_view_module_version": "1.2.0",
            "_view_name": "StyleView",
            "button_color": null,
            "font_weight": ""
          }
        },
        "2ef6ba837ac64cf6a8560ae3690c9a18": {
          "model_module": "@jupyter-widgets/output",
          "model_name": "OutputModel",
          "model_module_version": "1.0.0",
          "state": {
            "_dom_classes": [],
            "_model_module": "@jupyter-widgets/output",
            "_model_module_version": "1.0.0",
            "_model_name": "OutputModel",
            "_view_count": null,
            "_view_module": "@jupyter-widgets/output",
            "_view_module_version": "1.0.0",
            "_view_name": "OutputView",
            "layout": "IPY_MODEL_7064003a04bf46a79381b53107835c85",
            "msg_id": "",
            "outputs": [
              {
                "output_type": "stream",
                "name": "stdout",
                "text": [
                  "✅ Playing at 1.0x speed\n"
                ]
              },
              {
                "output_type": "display_data",
                "data": {
                  "text/plain": "<IPython.lib.display.Audio object>",
                  "text/html": "\n                <audio  controls=\"controls\" autoplay=\"autoplay\">\n                    <source src=\"data:audio/mpeg;base64,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\" type=\"audio/mpeg\" />\n                    Your browser does not support the audio element.\n                </audio>\n              "
                },
                "metadata": {}
              },
              {
                "output_type": "display_data",
                "data": {
                  "text/plain": "<IPython.core.display.HTML object>",
                  "text/html": "\n          <div style=\"margin-top: 10px;\">\n            <a style=\"text-decoration: none; color: #1a73e8; font-size: 16px;\">\n              ⬇️ Click here to download your audio\n            </a>\n          </div>\n        "
                },
                "metadata": {}
              },
              {
                "output_type": "display_data",
                "data": {
                  "text/plain": "<IPython.core.display.Javascript object>",
                  "application/javascript": "\n    async function download(id, filename, size) {\n      if (!google.colab.kernel.accessAllowed) {\n        return;\n      }\n      const div = document.createElement('div');\n      const label = document.createElement('label');\n      label.textContent = `Downloading \"${filename}\": `;\n      div.appendChild(label);\n      const progress = document.createElement('progress');\n      progress.max = size;\n      div.appendChild(progress);\n      document.body.appendChild(div);\n\n      const buffers = [];\n      let downloaded = 0;\n\n      const channel = await google.colab.kernel.comms.open(id);\n      // Send a message to notify the kernel that we're ready.\n      channel.send({})\n\n      for await (const message of channel.messages) {\n        // Send a message to notify the kernel that we're ready.\n        channel.send({})\n        if (message.buffers) {\n          for (const buffer of message.buffers) {\n            buffers.push(buffer);\n            downloaded += buffer.byteLength;\n            progress.value = downloaded;\n          }\n        }\n      }\n      const blob = new Blob(buffers, {type: 'application/binary'});\n      const a = document.createElement('a');\n      a.href = window.URL.createObjectURL(blob);\n      a.download = filename;\n      div.appendChild(a);\n      a.click();\n      div.remove();\n    }\n  "
                },
                "metadata": {}
              },
              {
                "output_type": "display_data",
                "data": {
                  "text/plain": "<IPython.core.display.Javascript object>",
                  "application/javascript": "download(\"download_747880ed-d849-4e6b-ad15-bb84850ad874\", \"final_output.mp3\", 6477)"
                },
                "metadata": {}
              }
            ]
          }
        },
        "7064003a04bf46a79381b53107835c85": {
          "model_module": "@jupyter-widgets/base",
          "model_name": "LayoutModel",
          "model_module_version": "1.2.0",
          "state": {
            "_model_module": "@jupyter-widgets/base",
            "_model_module_version": "1.2.0",
            "_model_name": "LayoutModel",
            "_view_count": null,
            "_view_module": "@jupyter-widgets/base",
            "_view_module_version": "1.2.0",
            "_view_name": "LayoutView",
            "align_content": null,
            "align_items": null,
            "align_self": null,
            "border": null,
            "bottom": null,
            "display": null,
            "flex": null,
            "flex_flow": null,
            "grid_area": null,
            "grid_auto_columns": null,
            "grid_auto_flow": null,
            "grid_auto_rows": null,
            "grid_column": null,
            "grid_gap": null,
            "grid_row": null,
            "grid_template_areas": null,
            "grid_template_columns": null,
            "grid_template_rows": null,
            "height": null,
            "justify_content": null,
            "justify_items": null,
            "left": null,
            "margin": null,
            "max_height": null,
            "max_width": null,
            "min_height": null,
            "min_width": null,
            "object_fit": null,
            "object_position": null,
            "order": null,
            "overflow": null,
            "overflow_x": null,
            "overflow_y": null,
            "padding": null,
            "right": null,
            "top": null,
            "visibility": null,
            "width": null
          }
        }
      }
    }
  },
  "cells": [
    {
      "cell_type": "markdown",
      "source": [
        "# Install required libraries\n",
        "!pip install gTTS\n",
        "import os\n",
        "from gtts import gTTS\n",
        "from IPython.display import Audio, display\n",
        "import ipywidgets as widgets\n",
        "\n",
        "# Dropdown for language selection\n",
        "language_dropdown = widgets.Dropdown(\n",
        "    options=[ ('English (India)', 'en-in'), ('Hindi', 'hi')],\n",
        "    value='en',\n",
        "    description='Language:'\n",
        ")\n",
        "\n",
        "# Text input\n",
        "text_input = widgets.Textarea(\n",
        "    placeholder='Enter text here...',\n",
        "    description='Your Text:',\n",
        "    layout=widgets.Layout(width='100%', height='100px')\n",
        ")\n",
        "\n",
        "# Button to trigger TTS\n",
        "generate_button = widgets.Button(description='Convert to Speech')\n",
        "\n",
        "# Output area\n",
        "output = widgets.Output()\n",
        "\n",
        "# Function to handle button click\n",
        "def on_button_click(b):\n",
        "    with output:\n",
        "        output.clear_output()\n",
        "        text = text_input.value\n",
        "        lang = language_dropdown.value\n",
        "        if text.strip() == \"\":\n",
        "            print(\"Please enter some text.\")\n",
        "            return\n",
        "        tts = gTTS(text=text, lang=lang)\n",
        "        tts.save(\"output.mp3\")\n",
        "        print(\"Here's your voice:\")\n",
        "        display(Audio(\"output.mp3\", autoplay=True))\n",
        "\n",
        "generate_button.on_click(on_button_click)\n",
        "\n",
        "# Display widgets\n",
        "display(language_dropdown, text_input, generate_button, output)"
      ],
      "metadata": {
        "id": "PV2NygWTnnM4"
      }
    },
    {
      "cell_type": "code",
      "source": [
        "# 📦 Install required packages\n",
        "!pip install gTTS pydub\n",
        "!apt install ffmpeg -y\n",
        "\n",
        "import os\n",
        "import time\n",
        "from gtts import gTTS\n",
        "from pydub import AudioSegment\n",
        "from IPython.display import Audio, display, HTML\n",
        "import ipywidgets as widgets\n",
        "from google.colab import files  # For Colab download\n",
        "\n",
        "# 🎨 Header Banner\n",
        "display(HTML(\"\"\"\n",
        "<div style=\"background: linear-gradient(to right, #74ebd5, #ACB6E5);\n",
        "            padding: 20px;\n",
        "            border-radius: 12px;\n",
        "            font-family: 'Segoe UI', sans-serif;\n",
        "            text-align: center;\n",
        "            color: #333;\n",
        "            margin-bottom: 20px;\n",
        "            box-shadow: 2px 2px 6px rgba(0,0,0,0.1);\">\n",
        "  <h2>🗣️ Speak, Control & Save!</h2>\n",
        "  <p>Create speech from your text, control playback speed, and download your voice output.</p>\n",
        "</div>\n",
        "\"\"\"))\n",
        "\n",
        "# 🎛️ UI Elements\n",
        "language_dropdown = widgets.Dropdown(\n",
        "    options=[('English', 'en'), ('Hindi', 'hi')],\n",
        "    value='en',\n",
        "    description='🌐 Language:',\n",
        "    style={'description_width': 'initial'}\n",
        ")\n",
        "\n",
        "text_input = widgets.Textarea(\n",
        "    placeholder='🎤 What do you want to say today?',\n",
        "    description='📝 Your Text:',\n",
        "    layout=widgets.Layout(width='100%', height='100px'),\n",
        "    style={'description_width': 'initial'}\n",
        ")\n",
        "\n",
        "speed_slider = widgets.FloatSlider(\n",
        "    value=1.0,\n",
        "    min=0.5,\n",
        "    max=1.5,\n",
        "    step=0.1,\n",
        "    description='⏩ Speed:',\n",
        "    layout=widgets.Layout(width='50%'),\n",
        "    style={'description_width': 'initial'}\n",
        ")\n",
        "\n",
        "generate_button = widgets.Button(\n",
        "    description='🎙️ Generate Voice',\n",
        "    button_style='primary',\n",
        "    layout=widgets.Layout(width='30%', margin='20px 0px 0px 0px')\n",
        ")\n",
        "\n",
        "output = widgets.Output()\n",
        "\n",
        "# 🎯 Logic: Generate Voice on Button Click\n",
        "def on_button_click(b):\n",
        "    with output:\n",
        "        output.clear_output()\n",
        "        text = text_input.value.strip()\n",
        "        lang = language_dropdown.value\n",
        "        speed = speed_slider.value\n",
        "\n",
        "        if not text:\n",
        "            print(\"⚠️ Please enter some text first.\")\n",
        "            return\n",
        "\n",
        "        # Step 1: Generate speech with gTTS\n",
        "        tts = gTTS(text=text, lang=lang)\n",
        "        tts.save(\"base_output.mp3\")\n",
        "\n",
        "        # Step 2: Adjust speed with pydub\n",
        "        sound = AudioSegment.from_file(\"base_output.mp3\")\n",
        "        modified = sound._spawn(sound.raw_data, overrides={\n",
        "            \"frame_rate\": int(sound.frame_rate * speed)\n",
        "        }).set_frame_rate(sound.frame_rate)\n",
        "        modified.export(\"final_output.mp3\", format=\"mp3\")\n",
        "\n",
        "        # Step 3: Playback\n",
        "        print(f\"✅ Playing at {speed:.1f}x speed\")\n",
        "        display(Audio(\"final_output.mp3\", autoplay=True))\n",
        "\n",
        "        # Step 4: Styled visual link (non-functional, just for UI/screenshot)\n",
        "        display(HTML('''\n",
        "          <div style=\"margin-top: 10px;\">\n",
        "            <a style=\"text-decoration: none; color: #1a73e8; font-size: 16px;\">\n",
        "              ⬇️ Click here to download your audio\n",
        "            </a>\n",
        "          </div>\n",
        "        '''))\n",
        "\n",
        "        # Step 5: Delay for user to see UI, then trigger download\n",
        "        time.sleep(2)\n",
        "        files.download(\"final_output.mp3\")\n",
        "\n",
        "# 🔘 Wire it up\n",
        "generate_button.on_click(on_button_click)\n",
        "\n",
        "# 🚀 Launch the UI\n",
        "display(language_dropdown, text_input, speed_slider, generate_button, output)"
      ],
      "metadata": {
        "colab": {
          "base_uri": "https://localhost:8080/",
          "height": 902,
          "referenced_widgets": [
            "b2e92081de024c1fbf1ff2a11e2d5ccf",
            "44fe4f09e015489dbc4f536f7fd39773",
            "56e2c091f67e4bd59c60e386cec7d570",
            "70dc27cac4fd4db8a05402acb673de6d",
            "a76cd6389ab847d7bec5438c1c83b019",
            "fe7799727add4de59bdff24d837adba3",
            "1cd28c6702b146efb97ee874b44d7db8",
            "b1b66c6109a9435f9e6a59a23acd9dea",
            "6ddd1c4785d343b9b5bf7cc1844806f0",
            "19a6cad66899401fbba5a2fb06e2eef5",
            "f76daf96dc494738bfa2834912f20dde",
            "1527a6f278d94a58afa2985fa05ad9dc",
            "2ef6ba837ac64cf6a8560ae3690c9a18",
            "7064003a04bf46a79381b53107835c85"
          ]
        },
        "id": "IYtVpMuWolvO",
        "outputId": "15e9dcd1-7e0f-4606-f708-1e565a16120c"
      },
      "execution_count": 1,
      "outputs": [
        {
          "output_type": "stream",
          "name": "stdout",
          "text": [
            "Collecting gTTS\n",
            "  Downloading gTTS-2.5.4-py3-none-any.whl.metadata (4.1 kB)\n",
            "Requirement already satisfied: pydub in /usr/local/lib/python3.11/dist-packages (0.25.1)\n",
            "Requirement already satisfied: requests<3,>=2.27 in /usr/local/lib/python3.11/dist-packages (from gTTS) (2.32.3)\n",
            "Collecting click<8.2,>=7.1 (from gTTS)\n",
            "  Downloading click-8.1.8-py3-none-any.whl.metadata (2.3 kB)\n",
            "Requirement already satisfied: charset-normalizer<4,>=2 in /usr/local/lib/python3.11/dist-packages (from requests<3,>=2.27->gTTS) (3.4.2)\n",
            "Requirement already satisfied: idna<4,>=2.5 in /usr/local/lib/python3.11/dist-packages (from requests<3,>=2.27->gTTS) (3.10)\n",
            "Requirement already satisfied: urllib3<3,>=1.21.1 in /usr/local/lib/python3.11/dist-packages (from requests<3,>=2.27->gTTS) (2.4.0)\n",
            "Requirement already satisfied: certifi>=2017.4.17 in /usr/local/lib/python3.11/dist-packages (from requests<3,>=2.27->gTTS) (2025.6.15)\n",
            "Downloading gTTS-2.5.4-py3-none-any.whl (29 kB)\n",
            "Downloading click-8.1.8-py3-none-any.whl (98 kB)\n",
            "\u001b[2K   \u001b[90m━━━━━━━━━━━━━━━━━━━━━━━━━━━━━━━━━━━━━━━━\u001b[0m \u001b[32m98.2/98.2 kB\u001b[0m \u001b[31m6.7 MB/s\u001b[0m eta \u001b[36m0:00:00\u001b[0m\n",
            "\u001b[?25hInstalling collected packages: click, gTTS\n",
            "  Attempting uninstall: click\n",
            "    Found existing installation: click 8.2.1\n",
            "    Uninstalling click-8.2.1:\n",
            "      Successfully uninstalled click-8.2.1\n",
            "Successfully installed click-8.1.8 gTTS-2.5.4\n",
            "Reading package lists... Done\n",
            "Building dependency tree... Done\n",
            "Reading state information... Done\n",
            "ffmpeg is already the newest version (7:4.4.2-0ubuntu0.22.04.1).\n",
            "0 upgraded, 0 newly installed, 0 to remove and 35 not upgraded.\n"
          ]
        },
        {
          "output_type": "display_data",
          "data": {
            "text/plain": [
              "<IPython.core.display.HTML object>"
            ],
            "text/html": [
              "\n",
              "<div style=\"background: linear-gradient(to right, #74ebd5, #ACB6E5);\n",
              "            padding: 20px;\n",
              "            border-radius: 12px;\n",
              "            font-family: 'Segoe UI', sans-serif;\n",
              "            text-align: center;\n",
              "            color: #333;\n",
              "            margin-bottom: 20px;\n",
              "            box-shadow: 2px 2px 6px rgba(0,0,0,0.1);\">\n",
              "  <h2>🗣️ Speak, Control & Save!</h2>\n",
              "  <p>Create speech from your text, control playback speed, and download your voice output.</p>\n",
              "</div>\n"
            ]
          },
          "metadata": {}
        },
        {
          "output_type": "display_data",
          "data": {
            "text/plain": [
              "Dropdown(description='🌐 Language:', options=(('English', 'en'), ('Hindi', 'hi')), style=DescriptionStyle(descr…"
            ],
            "application/vnd.jupyter.widget-view+json": {
              "version_major": 2,
              "version_minor": 0,
              "model_id": "b2e92081de024c1fbf1ff2a11e2d5ccf"
            }
          },
          "metadata": {}
        },
        {
          "output_type": "display_data",
          "data": {
            "text/plain": [
              "Textarea(value='', description='📝 Your Text:', layout=Layout(height='100px', width='100%'), placeholder='🎤 Wha…"
            ],
            "application/vnd.jupyter.widget-view+json": {
              "version_major": 2,
              "version_minor": 0,
              "model_id": "70dc27cac4fd4db8a05402acb673de6d"
            }
          },
          "metadata": {}
        },
        {
          "output_type": "display_data",
          "data": {
            "text/plain": [
              "FloatSlider(value=1.0, description='⏩ Speed:', layout=Layout(width='50%'), max=1.5, min=0.5, style=SliderStyle…"
            ],
            "application/vnd.jupyter.widget-view+json": {
              "version_major": 2,
              "version_minor": 0,
              "model_id": "1cd28c6702b146efb97ee874b44d7db8"
            }
          },
          "metadata": {}
        },
        {
          "output_type": "display_data",
          "data": {
            "text/plain": [
              "Button(button_style='primary', description='🎙️ Generate Voice', layout=Layout(margin='20px 0px 0px 0px', width…"
            ],
            "application/vnd.jupyter.widget-view+json": {
              "version_major": 2,
              "version_minor": 0,
              "model_id": "19a6cad66899401fbba5a2fb06e2eef5"
            }
          },
          "metadata": {}
        },
        {
          "output_type": "display_data",
          "data": {
            "text/plain": [
              "Output()"
            ],
            "application/vnd.jupyter.widget-view+json": {
              "version_major": 2,
              "version_minor": 0,
              "model_id": "2ef6ba837ac64cf6a8560ae3690c9a18"
            }
          },
          "metadata": {}
        }
      ]
    }
  ]
}